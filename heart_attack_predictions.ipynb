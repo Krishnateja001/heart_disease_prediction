{
  "cells": [
    {
      "cell_type": "markdown",
      "metadata": {
        "id": "view-in-github",
        "colab_type": "text"
      },
      "source": [
        "<a href=\"https://colab.research.google.com/github/Krishnateja001/heart_disease_prediction/blob/main/heart_attack_predictions.ipynb\" target=\"_parent\"><img src=\"https://colab.research.google.com/assets/colab-badge.svg\" alt=\"Open In Colab\"/></a>"
      ]
    },
    {
      "cell_type": "code",
      "execution_count": null,
      "metadata": {
        "colab": {
          "background_save": true
        },
        "id": "f_nzdMFxMXIo"
      },
      "outputs": [],
      "source": [
        "import numpy as np \n",
        "import pandas as pd \n",
        "\n",
        "\n",
        "data = pd.read_csv('/content/framingham_heart_disease.csv')\n",
        "print(data.columns)\n",
        "data.head(10)\n",
        "data.dtypes"
      ]
    },
    {
      "cell_type": "code",
      "execution_count": null,
      "metadata": {
        "colab": {
          "background_save": true
        },
        "id": "ec5dYjzKQWsQ"
      },
      "outputs": [],
      "source": [
        "#education does not play important role \n",
        "data=data.drop('education',axis=1)\n",
        "# cigsperday and currentsmoker are redundant with each other thats why we remove cigs per day columns\n",
        "data=data.drop('cigsPerDay',axis=1)"
      ]
    },
    {
      "cell_type": "code",
      "execution_count": null,
      "metadata": {
        "colab": {
          "background_save": true
        },
        "id": "NQhhZslsnzDx"
      },
      "outputs": [],
      "source": [
        "!pip install matplotlib"
      ]
    },
    {
      "cell_type": "code",
      "execution_count": null,
      "metadata": {
        "colab": {
          "background_save": true
        },
        "id": "LABV1RibIDMx"
      },
      "outputs": [],
      "source": [
        "import seaborn as sns\n",
        "import matplotlib.pyplot as plt\n",
        "plt.figure(figsize=(20,20))\n",
        "sns.heatmap(data.corr(),annot=True,cmap='RdYlGn')"
      ]
    },
    {
      "cell_type": "code",
      "execution_count": null,
      "metadata": {
        "colab": {
          "background_save": true
        },
        "id": "GZrczLt2gTNj"
      },
      "outputs": [],
      "source": [
        "import seaborn as sn\n",
        "\n",
        "data.TenYearCHD.value_counts()\n",
        "sn.countplot(x='TenYearCHD',data=data)"
      ]
    },
    {
      "cell_type": "code",
      "execution_count": null,
      "metadata": {
        "colab": {
          "background_save": true
        },
        "id": "4ZYeu_CvTmBA"
      },
      "outputs": [],
      "source": [
        "fig = plt.figure(figsize = (15,20))\n",
        "ax = fig.gca()\n",
        "data.hist(ax = ax)"
      ]
    },
    {
      "cell_type": "code",
      "execution_count": null,
      "metadata": {
        "colab": {
          "background_save": true
        },
        "id": "RDYC4EbTN1jE"
      },
      "outputs": [],
      "source": [
        "data.isnull().sum()"
      ]
    },
    {
      "cell_type": "code",
      "execution_count": null,
      "metadata": {
        "colab": {
          "background_save": true
        },
        "id": "msSItKPgY6BF"
      },
      "outputs": [],
      "source": [
        "#mean_cigs_per_day = round(data['cigsPerDay'].mean())\n",
        "mean_BPMeds= round(data['BPMeds']).mean()\n",
        "mean_totChol = round(data['totChol']).mean()\n",
        "mean_BMI = round(data['BMI']).mean()\n",
        "mean_glucose =round(data['glucose']).mean()\n",
        "estimated_data =data\n",
        "#estimated_data['cigsPerDay'].fillna(mean_cigs_per_day,inplace= True)\n",
        "estimated_data['BPMeds'].fillna(mean_BPMeds,inplace = True)\n",
        "estimated_data['totChol'].fillna(mean_totChol,inplace =True)\n",
        "estimated_data['BMI'].fillna(mean_BMI, inplace = True)\n",
        "estimated_data['glucose'].fillna(mean_glucose, inplace =True)\n",
        "estimated_data =estimated_data.fillna(0)\n",
        "print(estimated_data.isnull().sum())"
      ]
    },
    {
      "cell_type": "code",
      "execution_count": null,
      "metadata": {
        "colab": {
          "background_save": true
        },
        "id": "ZYQIBqzPU9h1"
      },
      "outputs": [],
      "source": [
        "data.head(10)"
      ]
    },
    {
      "cell_type": "code",
      "execution_count": null,
      "metadata": {
        "colab": {
          "background_save": true
        },
        "id": "xATTDodkgJ6N"
      },
      "outputs": [],
      "source": [
        "data.groupby('TenYearCHD').mean()\n",
        "#As diaBP,BMI,heartRate have values in similar zones and almost equal to one another for 1 or 0 values for TenYearCHD hence they can be dropped.\n",
        "#In other words,these 3 have low variance for categoreies of TenYearCHD"
      ]
    },
    {
      "cell_type": "code",
      "execution_count": null,
      "metadata": {
        "colab": {
          "background_save": true
        },
        "id": "SwP-UIxkZN2U"
      },
      "outputs": [],
      "source": [
        "##Defining training and test data and predicting with logistic regression function\n",
        "from sklearn.model_selection import train_test_split\n",
        "from sklearn.linear_model import LogisticRegression\n",
        "from sklearn.metrics import accuracy_score, precision_score,recall_score, f1_score \n",
        "from sklearn.metrics import roc_curve, roc_auc_score\n",
        "\n",
        "raw_data = data\n",
        "data = estimated_data\n",
        "X = data[['male','age','currentSmoker','BPMeds','prevalentStroke','prevalentHyp','diabetes','BMI','totChol','sysBP','glucose']]\n",
        "y = data['TenYearCHD']\n",
        "X_train, X_test,y_train, y_test = train_test_split(X,y, test_size=0.1,random_state =1)"
      ]
    },
    {
      "cell_type": "code",
      "execution_count": null,
      "metadata": {
        "colab": {
          "background_save": true
        },
        "id": "-0au7bughe9I"
      },
      "outputs": [],
      "source": [
        "from sklearn.ensemble import RandomForestClassifier\n",
        "\n",
        "feature_names = [i for i in X.columns]\n",
        "forest = RandomForestClassifier(random_state=0)\n",
        "forest.fit(X_train, y_train)"
      ]
    },
    {
      "cell_type": "code",
      "execution_count": null,
      "metadata": {
        "colab": {
          "background_save": true
        },
        "id": "bL4SOVDnhnld"
      },
      "outputs": [],
      "source": [
        "import time\n",
        "import numpy as np\n",
        "\n",
        "start_time = time.time()\n",
        "importances = forest.feature_importances_\n",
        "std = np.std([tree.feature_importances_ for tree in forest.estimators_], axis=0)\n",
        "elapsed_time = time.time() - start_time\n",
        "\n",
        "print(f\"Elapsed time to compute the importances: {elapsed_time:.3f} seconds\")"
      ]
    },
    {
      "cell_type": "code",
      "execution_count": null,
      "metadata": {
        "colab": {
          "background_save": true
        },
        "id": "MHruKo2fhu5b"
      },
      "outputs": [],
      "source": [
        "import pandas as pd\n",
        "\n",
        "forest_importances = pd.Series(importances, index=feature_names)\n",
        "\n",
        "fig, ax = plt.subplots()\n",
        "forest_importances.plot.bar(yerr=std, ax=ax)\n",
        "ax.set_title(\"Feature importances using MDI\")\n",
        "ax.set_ylabel(\"Mean decrease in impurity\")\n",
        "fig.tight_layout()"
      ]
    },
    {
      "cell_type": "code",
      "execution_count": null,
      "metadata": {
        "colab": {
          "background_save": true
        },
        "id": "nYbnABzKiBpr"
      },
      "outputs": [],
      "source": [
        "print(X.columns)\n",
        "print(sorted(forest_importances))\n",
        "print(importances)"
      ]
    },
    {
      "cell_type": "code",
      "execution_count": null,
      "metadata": {
        "colab": {
          "background_save": true
        },
        "id": "6G-2CFY7mKAI"
      },
      "outputs": [],
      "source": [
        "# show the most important features\n",
        "import numpy as np\n",
        "most_important = np.argsort(forest_importances)[::-1][:5]\n",
        "most_important"
      ]
    },
    {
      "cell_type": "code",
      "execution_count": 49,
      "metadata": {
        "colab": {
          "base_uri": "https://localhost:8080/"
        },
        "id": "4AoUXRuOnjXV",
        "outputId": "c4f99ceb-7da7-42b1-cf59-6629ea445bcc"
      },
      "outputs": [
        {
          "output_type": "stream",
          "name": "stdout",
          "text": [
            "Xtrain_size= (3814, 5)\n",
            "X_test= (424, 5)\n",
            "y_train= (3814,)\n",
            "y_test= (424,)\n",
            "Logistic Regression equation, [[-0.00074123  0.02214246  0.00327228  0.00899699  0.61172672]] + [-6.53472241]\n"
          ]
        }
      ],
      "source": [
        "raw_data = data\n",
        "data = estimated_data\n",
        "X = data[['BMI','sysBP','totChol','glucose','male']] #feature importance columns\n",
        "#X = data[['male', 'currentSmoker', 'BPMeds', 'prevalentStroke']]\n",
        "y = data['TenYearCHD']\n",
        "X_train, X_test,y_train, y_test = train_test_split(X,y, test_size=0.1,random_state =1)\n",
        "print('Xtrain_size=',X_train.shape)\n",
        "print('X_test=',X_test.shape)\n",
        "print('y_train=',y_train.shape)\n",
        "print('y_test=',y_test.shape)\n",
        "#model = LogisticRegression(max_iter =1000)\n",
        "model = LogisticRegression(C=1, max_iter=100000, penalty='l1', solver='liblinear')\n",
        "model.fit(X_train,y_train)\n",
        "y_pred =model.predict(X_test)\n",
        "#printing logistic regression equation\n",
        "print('Logistic Regression equation, {} + {}'.format(model.coef_ , model.intercept_))"
      ]
    },
    {
      "cell_type": "code",
      "execution_count": 50,
      "metadata": {
        "colab": {
          "base_uri": "https://localhost:8080/"
        },
        "id": "4CvYa-egjf5P",
        "outputId": "f526723b-511f-4d92-b279-a68231a56e94"
      },
      "outputs": [
        {
          "output_type": "stream",
          "name": "stdout",
          "text": [
            "accuracy score: 0.841981\n",
            "Precision score:  0.8419811320754716\n",
            "Recall score:  0.8419811320754716\n",
            "roc_auc_score for Logistic Regression:  0.7047825497900013\n"
          ]
        }
      ],
      "source": [
        "print('accuracy score: {:4f}'.format(accuracy_score(y_test,y_pred)))\n",
        "print('Precision score: ', precision_score(y_test, y_pred,average='micro'))\n",
        "print('Recall score: ', recall_score(y_test, y_pred,average='micro'))\n",
        "#checking AUC under ROC curve\n",
        "y_score = model.predict_proba(X_test)[:,1]\n",
        "false_positive_rate, true_positive_rate, threshold = roc_curve(y_test, y_score)\n",
        "#print (true_positive_rate,false_positive_rate)\n",
        "print('roc_auc_score for Logistic Regression: ', roc_auc_score(y_test, y_score))"
      ]
    },
    {
      "cell_type": "code",
      "execution_count": 52,
      "metadata": {
        "colab": {
          "base_uri": "https://localhost:8080/",
          "height": 352
        },
        "id": "Ow9HXaZC18ng",
        "outputId": "5f838d26-745c-44e1-82f2-e4a36a32d30e"
      },
      "outputs": [
        {
          "output_type": "stream",
          "name": "stderr",
          "text": [
            "/usr/local/lib/python3.8/dist-packages/sklearn/utils/deprecation.py:87: FutureWarning: Function plot_confusion_matrix is deprecated; Function `plot_confusion_matrix` is deprecated in 1.0 and will be removed in 1.2. Use one of the class methods: ConfusionMatrixDisplay.from_predictions or ConfusionMatrixDisplay.from_estimator.\n",
            "  warnings.warn(msg, category=FutureWarning)\n"
          ]
        },
        {
          "output_type": "execute_result",
          "data": {
            "text/plain": [
              "<sklearn.metrics._plot.confusion_matrix.ConfusionMatrixDisplay at 0x7fccedce03d0>"
            ]
          },
          "metadata": {},
          "execution_count": 52
        },
        {
          "output_type": "display_data",
          "data": {
            "text/plain": [
              "<Figure size 432x288 with 2 Axes>"
            ],
            "image/png": "[encoded data removed]"
          },
          "metadata": {
            "needs_background": "light"
          }
        }
      ],
      "source": [
        "from sklearn.metrics import plot_confusion_matrix as PCM\n",
        "PCM(model,X_test,y_test)"
      ]
    },
    {
      "cell_type": "code",
      "execution_count": 53,
      "metadata": {
        "colab": {
          "base_uri": "https://localhost:8080/"
        },
        "id": "HWcTxhwGwjLt",
        "outputId": "6d3939db-4614-470d-e49e-7a4d9a34d5ba"
      },
      "outputs": [
        {
          "output_type": "stream",
          "name": "stdout",
          "text": [
            "              precision    recall  f1-score   support\n",
            "\n",
            "           0       0.86      0.98      0.91       363\n",
            "           1       0.12      0.02      0.03        61\n",
            "\n",
            "    accuracy                           0.84       424\n",
            "   macro avg       0.49      0.50      0.47       424\n",
            "weighted avg       0.75      0.84      0.79       424\n",
            "\n"
          ]
        }
      ],
      "source": [
        "from sklearn.metrics import classification_report as CR\n",
        "results = model.predict(X_test)\n",
        "print(CR(y_test,results))"
      ]
    },
    {
      "cell_type": "code",
      "execution_count": 48,
      "metadata": {
        "colab": {
          "base_uri": "https://localhost:8080/",
          "height": 621
        },
        "id": "nl_G0QUXju09",
        "outputId": "39436bf2-e08f-4f7c-e016-24f42c60673f"
      },
      "outputs": [
        {
          "output_type": "display_data",
          "data": {
            "text/plain": [
              "<Figure size 720x720 with 1 Axes>"
            ],
            "image/png": "[encoded data removed]"
          },
          "metadata": {
            "needs_background": "light"
          }
        }
      ],
      "source": [
        "# Plotting ROC Curve\n",
        "import matplotlib.pyplot as plt\n",
        "plt.subplots(1, figsize=(10,10))\n",
        "plt.title('Receiver Operating Characteristic - Logistic regression')\n",
        "plt.plot(false_positive_rate, true_positive_rate)\n",
        "plt.plot([0, 1], ls=\"--\")\n",
        "plt.plot([0, 0], [1, 0] , c=\".7\"), plt.plot([1, 1] , c=\".7\")\n",
        "plt.ylabel('True Positive Rate')\n",
        "plt.xlabel('False Positive Rate')\n",
        "plt.show()"
      ]
    },
    {
      "cell_type": "code",
      "execution_count": 54,
      "metadata": {
        "colab": {
          "base_uri": "https://localhost:8080/"
        },
        "id": "SyOw3nI8oiPi",
        "outputId": "b77cf71b-4d53-470f-8fdb-996ad5129699"
      },
      "outputs": [
        {
          "output_type": "stream",
          "name": "stdout",
          "text": [
            "Accuracy of logistic regression classifier on test set: 0.85\n"
          ]
        }
      ],
      "source": [
        "from sklearn import preprocessing\n",
        "from sklearn import utils\n",
        "from sklearn.model_selection import learning_curve\n",
        "\n",
        "\n",
        "\n",
        "lg = LogisticRegression(C=0.1, max_iter=100000, penalty='l1', solver='liblinear')\n",
        "# fit\n",
        "lg.fit(X_train, y_train)\n",
        "y_pred = lg.predict(X_test)\n",
        "print('Accuracy of logistic regression classifier on test set: {:.2f}'.format(lg.score(X_test, y_test)))"
      ]
    },
    {
      "cell_type": "code",
      "execution_count": 55,
      "metadata": {
        "colab": {
          "base_uri": "https://localhost:8080/",
          "height": 295
        },
        "id": "Zo2SFa9N9sTF",
        "outputId": "c34a1292-aad3-4ff0-c922-6e1c0f728f28"
      },
      "outputs": [
        {
          "output_type": "display_data",
          "data": {
            "text/plain": [
              "<Figure size 432x288 with 1 Axes>"
            ],
            "image/png": "[encoded data removed]"
          },
          "metadata": {
            "needs_background": "light"
          }
        }
      ],
      "source": [
        "train_sizes, train_scores, test_scores = learning_curve(estimator=lg, X=X_train, y=y_train,\n",
        "                                                       cv=12, train_sizes=np.linspace(0.1, 1.0, 10),\n",
        "                                                     n_jobs=1,scoring='neg_log_loss')#DEFULT\n",
        "\n",
        "train_mean = -np.mean(train_scores, axis=1)\n",
        "train_std = -np.std(train_scores, axis=1)\n",
        "test_mean = -np.mean(test_scores, axis=1)\n",
        "test_std = -np.std(test_scores, axis=1)\n",
        "#\n",
        "# Plot the learning curve\n",
        "#\n",
        "#train_sizes = [0, 349,  699, 1048, 1398, 1748, 2097, 2447, 2796, 3146]\n",
        "#plt.ylim([0,1])\n",
        "plt.plot(train_sizes, test_mean, color='blue', marker='+', markersize=5, linestyle='--', label='Validation Accuracy')\n",
        "plt.fill_between(train_sizes, test_mean + test_std, test_mean - test_std, alpha=0.15, color='blue')\n",
        "plt.plot(train_sizes, train_mean, color='red', marker='o', markersize=5, label='Training Accuracy')\n",
        "plt.fill_between(train_sizes, train_mean + train_std, train_mean - train_std, alpha=0.15, color='red')\n",
        "\n",
        "plt.title('Learning Curve')\n",
        "plt.xlabel('Training Data Size')\n",
        "plt.ylabel('loss')\n",
        "plt.grid()\n",
        "plt.legend(loc='lower right')\n",
        "plt.show()\n"
      ]
    },
    {
      "cell_type": "code",
      "execution_count": 28,
      "metadata": {
        "colab": {
          "base_uri": "https://localhost:8080/"
        },
        "id": "hABK0joGj57E",
        "outputId": "894310d5-4cf1-4cfc-e5a5-7914568970b5"
      },
      "outputs": [
        {
          "output_type": "execute_result",
          "data": {
            "text/plain": [
              "0.8537735849056604"
            ]
          },
          "metadata": {},
          "execution_count": 28
        }
      ],
      "source": [
        "accuracy = accuracy_score(y_test,y_pred)\n",
        "accuracy"
      ]
    },
    {
      "cell_type": "markdown",
      "metadata": {
        "id": "WF4eVZnTRHPn"
      },
      "source": [
        "#SVM"
      ]
    },
    {
      "cell_type": "code",
      "execution_count": 29,
      "metadata": {
        "id": "yqsS9wGBRL2X"
      },
      "outputs": [],
      "source": [
        "from sklearn.svm import SVC"
      ]
    },
    {
      "cell_type": "code",
      "execution_count": 30,
      "metadata": {
        "id": "R57ctOV8RomP"
      },
      "outputs": [],
      "source": [
        "from sklearn.model_selection import GridSearchCV\n",
        "\n",
        "Cs = [0.001, 0.01, 0.1, 1, 10]\n",
        "gammas = [0.001, 0.01, 0.1, 1]\n",
        "param_grid = {'C': Cs, 'gamma' : gammas}\n",
        "svm = SVC(kernel='rbf', probability=True)\n",
        "svm_clf = GridSearchCV(svm, param_grid, cv=10)"
      ]
    },
    {
      "cell_type": "code",
      "execution_count": 31,
      "metadata": {
        "colab": {
          "base_uri": "https://localhost:8080/"
        },
        "id": "cXclVa4URvY2",
        "outputId": "754f79db-0714-4685-ebe2-461edf259a1e"
      },
      "outputs": [
        {
          "output_type": "execute_result",
          "data": {
            "text/plain": [
              "{'C': 0.001, 'gamma': 0.001}"
            ]
          },
          "metadata": {},
          "execution_count": 31
        }
      ],
      "source": [
        "svm_fit = svm_clf.fit(X_train,y_train)\n",
        "#X_train, X_test,y_train, y_test\n",
        "svm_clf.best_params_ "
      ]
    },
    {
      "cell_type": "code",
      "execution_count": 32,
      "metadata": {
        "id": "FFvCstPzSnAx"
      },
      "outputs": [],
      "source": [
        "svm_predict = svm_clf.predict(X_test)       "
      ]
    },
    {
      "cell_type": "code",
      "execution_count": 33,
      "metadata": {
        "colab": {
          "base_uri": "https://localhost:8080/"
        },
        "id": "vh0nhuuCrXsU",
        "outputId": "4c17865d-3ed2-40b5-8455-322727f990df"
      },
      "outputs": [
        {
          "output_type": "stream",
          "name": "stdout",
          "text": [
            "              precision    recall  f1-score   support\n",
            "\n",
            "           0       0.86      1.00      0.92       363\n",
            "           1       0.00      0.00      0.00        61\n",
            "\n",
            "    accuracy                           0.86       424\n",
            "   macro avg       0.43      0.50      0.46       424\n",
            "weighted avg       0.73      0.86      0.79       424\n",
            "\n"
          ]
        },
        {
          "output_type": "stream",
          "name": "stderr",
          "text": [
            "/usr/local/lib/python3.8/dist-packages/sklearn/metrics/_classification.py:1318: UndefinedMetricWarning: Precision and F-score are ill-defined and being set to 0.0 in labels with no predicted samples. Use `zero_division` parameter to control this behavior.\n",
            "  _warn_prf(average, modifier, msg_start, len(result))\n",
            "/usr/local/lib/python3.8/dist-packages/sklearn/metrics/_classification.py:1318: UndefinedMetricWarning: Precision and F-score are ill-defined and being set to 0.0 in labels with no predicted samples. Use `zero_division` parameter to control this behavior.\n",
            "  _warn_prf(average, modifier, msg_start, len(result))\n",
            "/usr/local/lib/python3.8/dist-packages/sklearn/metrics/_classification.py:1318: UndefinedMetricWarning: Precision and F-score are ill-defined and being set to 0.0 in labels with no predicted samples. Use `zero_division` parameter to control this behavior.\n",
            "  _warn_prf(average, modifier, msg_start, len(result))\n"
          ]
        }
      ],
      "source": [
        "from sklearn.metrics import classification_report as CR\n",
        "results = svm_clf.predict(X_test)\n",
        "print(CR(y_test,results))"
      ]
    },
    {
      "cell_type": "code",
      "execution_count": 34,
      "metadata": {
        "colab": {
          "base_uri": "https://localhost:8080/"
        },
        "id": "Hc3uZ1Z4SpBq",
        "outputId": "3804101d-f207-4fc9-f34b-50fbef68dfd7"
      },
      "outputs": [
        {
          "output_type": "stream",
          "name": "stdout",
          "text": [
            "0.8561320754716981\n"
          ]
        }
      ],
      "source": [
        "from sklearn.metrics import accuracy_score\n",
        "\n",
        "svm_accuracy = accuracy_score(y_test,svm_predict)\n",
        "print(svm_accuracy)"
      ]
    },
    {
      "cell_type": "code",
      "execution_count": 35,
      "metadata": {
        "colab": {
          "base_uri": "https://localhost:8080/"
        },
        "id": "2MWXUhO-w-8e",
        "outputId": "c5b42598-7993-44ed-a002-720095a8f7e8"
      },
      "outputs": [
        {
          "output_type": "stream",
          "name": "stdout",
          "text": [
            "accuracy score: 0.856132\n",
            "Precision score:  0.8561320754716981\n",
            "Recall score:  0.8561320754716981\n",
            "roc_auc_score for Logistic Regression:  0.4260940251998374\n"
          ]
        }
      ],
      "source": [
        "print('accuracy score: {:4f}'.format(accuracy_score(y_test,svm_predict)))\n",
        "print('Precision score: ', precision_score(y_test, svm_predict,average='micro'))\n",
        "print('Recall score: ', recall_score(y_test, svm_predict,average='micro'))\n",
        "#checking AUC under ROC curve\n",
        "y_score = svm_clf.predict_proba(X_test)[:,1]\n",
        "false_positive_rate_svm, true_positive_rate_svm, threshold = roc_curve(y_test, y_score)\n",
        "#print (true_positive_rate,false_positive_rate)\n",
        "print('roc_auc_score for Logistic Regression: ', roc_auc_score(y_test, y_score))"
      ]
    },
    {
      "cell_type": "code",
      "execution_count": 36,
      "metadata": {
        "colab": {
          "base_uri": "https://localhost:8080/",
          "height": 621
        },
        "id": "EyhTZ6w4t487",
        "outputId": "272af8ac-de81-4343-ec76-2e2a398c7772"
      },
      "outputs": [
        {
          "output_type": "display_data",
          "data": {
            "text/plain": [
              "<Figure size 720x720 with 1 Axes>"
            ],
            "image/png": "[encoded data removed]"
          },
          "metadata": {
            "needs_background": "light"
          }
        }
      ],
      "source": [
        "import matplotlib.pyplot as plt\n",
        "plt.subplots(1, figsize=(10,10))\n",
        "plt.title('Receiver Operating Characteristic - Logistic regression')\n",
        "plt.plot(false_positive_rate_svm, true_positive_rate_svm)\n",
        "plt.plot([0, 1], ls=\"--\")\n",
        "plt.plot([0, 0], [1, 0] , c=\".7\"), plt.plot([1, 1] , c=\".7\")\n",
        "plt.ylabel('True Positive Rate')\n",
        "plt.xlabel('False Positive Rate')\n",
        "plt.show()"
      ]
    },
    {
      "cell_type": "code",
      "execution_count": 38,
      "metadata": {
        "id": "C8MLODLG70Kh",
        "colab": {
          "base_uri": "https://localhost:8080/",
          "height": 295
        },
        "outputId": "62ed51c4-c635-4af7-e222-00eb85e3c182"
      },
      "outputs": [
        {
          "output_type": "display_data",
          "data": {
            "text/plain": [
              "<Figure size 432x288 with 1 Axes>"
            ],
            "image/png": "[encoded data removed]"
          },
          "metadata": {
            "needs_background": "light"
          }
        }
      ],
      "source": [
        "train_sizes, train_scores, test_scores = learning_curve(estimator=svm, X=X_train, y=y_train,\n",
        "                                                       cv=12, train_sizes=np.linspace(0.1, 1.0, 10),\n",
        "                                                     n_jobs=1,scoring='neg_log_loss')\n",
        "\n",
        "train_mean = -np.mean(train_scores, axis=1)\n",
        "train_std = -np.std(train_scores, axis=1)\n",
        "test_mean = -np.mean(test_scores, axis=1)\n",
        "test_std = -np.std(test_scores, axis=1)\n",
        "#\n",
        "# Plot the learning curve\n",
        "#\n",
        "#train_sizes = [0, 349,  699, 1048, 1398, 1748, 2097, 2447, 2796, 3146]\n",
        "#plt.ylim([0,1])\n",
        "plt.plot(train_sizes, test_mean, color='blue', marker='+', markersize=5, linestyle='--', label='Validation Accuracy')\n",
        "plt.fill_between(train_sizes, test_mean + test_std, test_mean - test_std, alpha=0.15, color='blue')\n",
        "plt.plot(train_sizes, train_mean, color='red', marker='o', markersize=5, label='Training Accuracy')\n",
        "plt.fill_between(train_sizes, train_mean + train_std, train_mean - train_std, alpha=0.15, color='red')\n",
        "\n",
        "plt.title('Learning Curve')\n",
        "plt.xlabel('Training Data Size')\n",
        "plt.ylabel('loss')\n",
        "plt.grid()\n",
        "plt.legend(loc='lower right')\n",
        "plt.show()"
      ]
    },
    {
      "cell_type": "code",
      "source": [
        "train_sizes, train_scores, test_scores = learning_curve(estimator=svm, X=X_train, y=y_train,\n",
        "                                                       cv=12, train_sizes=np.linspace(0.1, 1.0, 10),\n",
        "                                                     n_jobs=1)\n",
        "\n",
        "train_mean = np.mean(train_scores, axis=1)\n",
        "train_std = np.std(train_scores, axis=1)\n",
        "test_mean = np.mean(test_scores, axis=1)\n",
        "test_std = np.std(test_scores, axis=1)\n",
        "#\n",
        "# Plot the learning curve\n",
        "#\n",
        "#train_sizes = [0, 349,  699, 1048, 1398, 1748, 2097, 2447, 2796, 3146]\n",
        "#plt.ylim([0,1])\n",
        "plt.plot(train_sizes, test_mean, color='blue', marker='+', markersize=5, linestyle='--', label='Validation Accuracy')\n",
        "plt.fill_between(train_sizes, test_mean + test_std, test_mean - test_std, alpha=0.15, color='blue')\n",
        "plt.plot(train_sizes, train_mean, color='red', marker='o', markersize=5, label='Training Accuracy')\n",
        "plt.fill_between(train_sizes, train_mean + train_std, train_mean - train_std, alpha=0.15, color='red')\n",
        "\n",
        "plt.title('Learning Curve')\n",
        "plt.xlabel('Training Data Size')\n",
        "plt.ylabel('accuracy')\n",
        "plt.grid()\n",
        "plt.legend(loc='lower right')\n",
        "plt.show()"
      ],
      "metadata": {
        "colab": {
          "base_uri": "https://localhost:8080/",
          "height": 295
        },
        "id": "VqiY_LjgqByb",
        "outputId": "7d1e9fc7-7d68-4d3a-c735-b80768d911a3"
      },
      "execution_count": 41,
      "outputs": [
        {
          "output_type": "display_data",
          "data": {
            "text/plain": [
              "<Figure size 432x288 with 1 Axes>"
            ],
            "image/png": "[encoded data removed]"
          },
          "metadata": {
            "needs_background": "light"
          }
        }
      ]
    }
  ],
  "metadata": {
    "colab": {
      "provenance": [],
      "authorship_tag": "ABX9TyN8PgbYhu4XxAn9y2rCKGd+",
      "include_colab_link": true
    },
    "kernelspec": {
      "display_name": "Python 3",
      "name": "python3"
    },
    "language_info": {
      "name": "python"
    }
  },
  "nbformat": 4,
  "nbformat_minor": 0
}